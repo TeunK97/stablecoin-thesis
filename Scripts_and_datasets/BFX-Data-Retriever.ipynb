{
 "cells": [
  {
   "cell_type": "markdown",
   "id": "brave-morrison",
   "metadata": {},
   "source": [
    "Give the start and end point in UNIX"
   ]
  },
  {
   "cell_type": "code",
   "execution_count": 1,
   "id": "corrected-metabolism",
   "metadata": {},
   "outputs": [],
   "source": [
    "import requests\n",
    "import json\n",
    "import time\n",
    "import sys\n",
    "import pandas as pd\n",
    "import calendar\n",
    "from datetime import datetime, timedelta"
   ]
  },
  {
   "cell_type": "code",
   "execution_count": 2,
   "id": "usual-indication",
   "metadata": {},
   "outputs": [],
   "source": [
    "# date-to-UNIX function\n",
    "def get_unix_ms_from_date(date):\n",
    "    return int(calendar.timegm(date.timetuple()) * 1000 + date.microsecond/1000)\n",
    "\n",
    "\n",
    "def get_ohlc_data(interval, symbol, start, end):\n",
    "    r = requests.get(f'https://api-pub.bitfinex.com/v2/candles/trade:{interval}:t{symbol}/hist?limit=10000&start={start}&end={end}&sort=1')\n",
    "    return r.json()\n",
    "\n",
    "def fetch_data_from_bitfinex(interval, symbol, start, end):\n",
    "    df = pd.DataFrame()\n",
    "    \n",
    "    while start < end:\n",
    "        periodic_end = start + 601620000\n",
    "        data = get_ohlc_data(interval, symbol, start, periodic_end)\n",
    "        start = data[-1][0]\n",
    "        trade_df = pd.DataFrame(data, columns = ['timestamp', 'Open', 'Close', 'High', 'Low', 'Volume'])\n",
    "        trade_df = trade_df.set_index('timestamp')\n",
    "        df = pd.concat([df, trade_df])\n",
    "        df = df[~df.index.duplicated()]\n",
    "        b = f\"Status Start: {start}\" \n",
    "        print(b, end=\"\\r\")\n",
    "        time.sleep(0.1)   \n",
    "    return df\n",
    "\n",
    "\n",
    "def update_daily(df, symbol, start, end):\n",
    "    df = df.set_index('timestamp')\n",
    "    data = get_ohlc_data(\"1D\", symbol, start, end)\n",
    "    trade_df = pd.DataFrame(data, columns = ['timestamp', 'Open', 'Close', 'High', 'Low', 'Volume'])\n",
    "    trade_df = trade_df.set_index('timestamp')\n",
    "    df = pd.concat([df, trade_df])\n",
    "    df = df[~df.index.duplicated()]\n",
    "    return df\n",
    "        "
   ]
  },
  {
   "cell_type": "code",
   "execution_count": 9,
   "id": "scenic-character",
   "metadata": {},
   "outputs": [],
   "source": [
    "data = fetch_data_from_bitfinex(\"15m\", \"ETHUSD\", 1605999600000, 1621720800000)"
   ]
  }
 ],
 "metadata": {
  "kernelspec": {
   "display_name": "Python 3",
   "language": "python",
   "name": "python3"
  },
  "language_info": {
   "codemirror_mode": {
    "name": "ipython",
    "version": 3
   },
   "file_extension": ".py",
   "mimetype": "text/x-python",
   "name": "python",
   "nbconvert_exporter": "python",
   "pygments_lexer": "ipython3",
   "version": "3.9.1"
  }
 },
 "nbformat": 4,
 "nbformat_minor": 5
}
